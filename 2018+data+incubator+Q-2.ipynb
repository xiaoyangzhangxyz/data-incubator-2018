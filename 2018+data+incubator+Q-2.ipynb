{
 "cells": [
  {
   "cell_type": "code",
   "execution_count": 1,
   "metadata": {
    "collapsed": true
   },
   "outputs": [],
   "source": [
    "import pandas as pd"
   ]
  },
  {
   "cell_type": "code",
   "execution_count": 2,
   "metadata": {},
   "outputs": [
    {
     "name": "stderr",
     "output_type": "stream",
     "text": [
      "C:\\Users\\xiaoyang\\Anaconda3\\lib\\site-packages\\IPython\\core\\interactiveshell.py:2698: DtypeWarning: Columns (15,25,26,27,28,29,30,31,32,33,34,36,40) have mixed types. Specify dtype option on import or set low_memory=False.\n",
      "  interactivity=interactivity, compiler=compiler, result=result)\n"
     ]
    },
    {
     "data": {
      "text/html": [
       "<div>\n",
       "<style>\n",
       "    .dataframe thead tr:only-child th {\n",
       "        text-align: right;\n",
       "    }\n",
       "\n",
       "    .dataframe thead th {\n",
       "        text-align: left;\n",
       "    }\n",
       "\n",
       "    .dataframe tbody tr th {\n",
       "        vertical-align: top;\n",
       "    }\n",
       "</style>\n",
       "<table border=\"1\" class=\"dataframe\">\n",
       "  <thead>\n",
       "    <tr style=\"text-align: right;\">\n",
       "      <th></th>\n",
       "      <th>NPI</th>\n",
       "      <th>PAC ID</th>\n",
       "      <th>Professional Enrollment ID</th>\n",
       "      <th>Last Name</th>\n",
       "      <th>First Name</th>\n",
       "      <th>Middle Name</th>\n",
       "      <th>Suffix</th>\n",
       "      <th>Gender</th>\n",
       "      <th>Credential</th>\n",
       "      <th>Medical school name</th>\n",
       "      <th>...</th>\n",
       "      <th>Hospital affiliation CCN 3</th>\n",
       "      <th>Hospital affiliation LBN 3</th>\n",
       "      <th>Hospital affiliation CCN 4</th>\n",
       "      <th>Hospital affiliation LBN 4</th>\n",
       "      <th>Hospital affiliation CCN 5</th>\n",
       "      <th>Hospital affiliation LBN 5</th>\n",
       "      <th>Professional accepts Medicare Assignment</th>\n",
       "      <th>Reported Quality Measures</th>\n",
       "      <th>Used electronic health records</th>\n",
       "      <th>Committed to heart health through the Million Hearts® initiative.</th>\n",
       "    </tr>\n",
       "  </thead>\n",
       "  <tbody>\n",
       "    <tr>\n",
       "      <th>0</th>\n",
       "      <td>1487927612</td>\n",
       "      <td>4880850486</td>\n",
       "      <td>I20120726000331</td>\n",
       "      <td>HALL</td>\n",
       "      <td>ESTHER</td>\n",
       "      <td>S</td>\n",
       "      <td>NaN</td>\n",
       "      <td>F</td>\n",
       "      <td>NaN</td>\n",
       "      <td>LIFE CHIROPRACTIC COLLEGE - WEST</td>\n",
       "      <td>...</td>\n",
       "      <td>NaN</td>\n",
       "      <td>NaN</td>\n",
       "      <td>NaN</td>\n",
       "      <td>NaN</td>\n",
       "      <td>NaN</td>\n",
       "      <td>NaN</td>\n",
       "      <td>Y</td>\n",
       "      <td>NaN</td>\n",
       "      <td>NaN</td>\n",
       "      <td>NaN</td>\n",
       "    </tr>\n",
       "    <tr>\n",
       "      <th>1</th>\n",
       "      <td>1235146762</td>\n",
       "      <td>2365435336</td>\n",
       "      <td>I20040406000367</td>\n",
       "      <td>WHITE</td>\n",
       "      <td>BARBARA</td>\n",
       "      <td>L</td>\n",
       "      <td>NaN</td>\n",
       "      <td>F</td>\n",
       "      <td>CSW</td>\n",
       "      <td>OTHER</td>\n",
       "      <td>...</td>\n",
       "      <td>NaN</td>\n",
       "      <td>NaN</td>\n",
       "      <td>NaN</td>\n",
       "      <td>NaN</td>\n",
       "      <td>NaN</td>\n",
       "      <td>NaN</td>\n",
       "      <td>Y</td>\n",
       "      <td>NaN</td>\n",
       "      <td>NaN</td>\n",
       "      <td>NaN</td>\n",
       "    </tr>\n",
       "    <tr>\n",
       "      <th>2</th>\n",
       "      <td>1346282258</td>\n",
       "      <td>5395768527</td>\n",
       "      <td>I20060113000139</td>\n",
       "      <td>DAVIDSON</td>\n",
       "      <td>JOHN</td>\n",
       "      <td>A</td>\n",
       "      <td>NaN</td>\n",
       "      <td>M</td>\n",
       "      <td>CSW</td>\n",
       "      <td>OTHER</td>\n",
       "      <td>...</td>\n",
       "      <td>NaN</td>\n",
       "      <td>NaN</td>\n",
       "      <td>NaN</td>\n",
       "      <td>NaN</td>\n",
       "      <td>NaN</td>\n",
       "      <td>NaN</td>\n",
       "      <td>Y</td>\n",
       "      <td>NaN</td>\n",
       "      <td>NaN</td>\n",
       "      <td>NaN</td>\n",
       "    </tr>\n",
       "    <tr>\n",
       "      <th>3</th>\n",
       "      <td>1932283124</td>\n",
       "      <td>5193762862</td>\n",
       "      <td>I20050415000143</td>\n",
       "      <td>CAGEN</td>\n",
       "      <td>STEVEN</td>\n",
       "      <td>F</td>\n",
       "      <td>NaN</td>\n",
       "      <td>M</td>\n",
       "      <td>DC</td>\n",
       "      <td>SHERMAN COLLEGE OF STRAIGHT CHIROPRACTIC</td>\n",
       "      <td>...</td>\n",
       "      <td>NaN</td>\n",
       "      <td>NaN</td>\n",
       "      <td>NaN</td>\n",
       "      <td>NaN</td>\n",
       "      <td>NaN</td>\n",
       "      <td>NaN</td>\n",
       "      <td>Y</td>\n",
       "      <td>NaN</td>\n",
       "      <td>NaN</td>\n",
       "      <td>NaN</td>\n",
       "    </tr>\n",
       "    <tr>\n",
       "      <th>4</th>\n",
       "      <td>1902950462</td>\n",
       "      <td>7416123666</td>\n",
       "      <td>I20120110000522</td>\n",
       "      <td>ESPY</td>\n",
       "      <td>LEISHA</td>\n",
       "      <td>H</td>\n",
       "      <td>NaN</td>\n",
       "      <td>F</td>\n",
       "      <td>NaN</td>\n",
       "      <td>LIFE CHIROPRACTIC COLLEGE</td>\n",
       "      <td>...</td>\n",
       "      <td>NaN</td>\n",
       "      <td>NaN</td>\n",
       "      <td>NaN</td>\n",
       "      <td>NaN</td>\n",
       "      <td>NaN</td>\n",
       "      <td>NaN</td>\n",
       "      <td>M</td>\n",
       "      <td>NaN</td>\n",
       "      <td>NaN</td>\n",
       "      <td>NaN</td>\n",
       "    </tr>\n",
       "  </tbody>\n",
       "</table>\n",
       "<p>5 rows × 41 columns</p>\n",
       "</div>"
      ],
      "text/plain": [
       "          NPI      PAC ID Professional Enrollment ID Last Name First Name  \\\n",
       "0  1487927612  4880850486            I20120726000331      HALL     ESTHER   \n",
       "1  1235146762  2365435336            I20040406000367     WHITE    BARBARA   \n",
       "2  1346282258  5395768527            I20060113000139  DAVIDSON       JOHN   \n",
       "3  1932283124  5193762862            I20050415000143     CAGEN     STEVEN   \n",
       "4  1902950462  7416123666            I20120110000522      ESPY     LEISHA   \n",
       "\n",
       "  Middle Name Suffix Gender Credential  \\\n",
       "0           S    NaN      F        NaN   \n",
       "1           L    NaN      F        CSW   \n",
       "2           A    NaN      M        CSW   \n",
       "3           F    NaN      M         DC   \n",
       "4           H    NaN      F        NaN   \n",
       "\n",
       "                        Medical school name  \\\n",
       "0          LIFE CHIROPRACTIC COLLEGE - WEST   \n",
       "1                                     OTHER   \n",
       "2                                     OTHER   \n",
       "3  SHERMAN COLLEGE OF STRAIGHT CHIROPRACTIC   \n",
       "4                 LIFE CHIROPRACTIC COLLEGE   \n",
       "\n",
       "                                 ...                                  \\\n",
       "0                                ...                                   \n",
       "1                                ...                                   \n",
       "2                                ...                                   \n",
       "3                                ...                                   \n",
       "4                                ...                                   \n",
       "\n",
       "   Hospital affiliation CCN 3 Hospital affiliation LBN 3  \\\n",
       "0                         NaN                        NaN   \n",
       "1                         NaN                        NaN   \n",
       "2                         NaN                        NaN   \n",
       "3                         NaN                        NaN   \n",
       "4                         NaN                        NaN   \n",
       "\n",
       "  Hospital affiliation CCN 4 Hospital affiliation LBN 4  \\\n",
       "0                        NaN                        NaN   \n",
       "1                        NaN                        NaN   \n",
       "2                        NaN                        NaN   \n",
       "3                        NaN                        NaN   \n",
       "4                        NaN                        NaN   \n",
       "\n",
       "  Hospital affiliation CCN 5 Hospital affiliation LBN 5  \\\n",
       "0                        NaN                        NaN   \n",
       "1                        NaN                        NaN   \n",
       "2                        NaN                        NaN   \n",
       "3                        NaN                        NaN   \n",
       "4                        NaN                        NaN   \n",
       "\n",
       "  Professional accepts Medicare Assignment Reported Quality Measures  \\\n",
       "0                                        Y                       NaN   \n",
       "1                                        Y                       NaN   \n",
       "2                                        Y                       NaN   \n",
       "3                                        Y                       NaN   \n",
       "4                                        M                       NaN   \n",
       "\n",
       "   Used electronic health records  \\\n",
       "0                             NaN   \n",
       "1                             NaN   \n",
       "2                             NaN   \n",
       "3                             NaN   \n",
       "4                             NaN   \n",
       "\n",
       "   Committed to heart health through the Million Hearts® initiative.  \n",
       "0                                                NaN                  \n",
       "1                                                NaN                  \n",
       "2                                                NaN                  \n",
       "3                                                NaN                  \n",
       "4                                                NaN                  \n",
       "\n",
       "[5 rows x 41 columns]"
      ]
     },
     "execution_count": 2,
     "metadata": {},
     "output_type": "execute_result"
    }
   ],
   "source": [
    "ncpdf=pd.read_csv('Physician_Compare_National_Downloadable_File.csv')\n",
    "ncpdf.head()"
   ]
  },
  {
   "cell_type": "code",
   "execution_count": null,
   "metadata": {
    "collapsed": true
   },
   "outputs": [],
   "source": []
  },
  {
   "cell_type": "code",
   "execution_count": 3,
   "metadata": {},
   "outputs": [
    {
     "data": {
      "text/plain": [
       "1070395"
      ]
     },
     "execution_count": 3,
     "metadata": {},
     "output_type": "execute_result"
    }
   ],
   "source": [
    "ncpdf['NPI'].nunique()"
   ]
  },
  {
   "cell_type": "code",
   "execution_count": 4,
   "metadata": {},
   "outputs": [
    {
     "data": {
      "text/html": [
       "<div>\n",
       "<style>\n",
       "    .dataframe thead tr:only-child th {\n",
       "        text-align: right;\n",
       "    }\n",
       "\n",
       "    .dataframe thead th {\n",
       "        text-align: left;\n",
       "    }\n",
       "\n",
       "    .dataframe tbody tr th {\n",
       "        vertical-align: top;\n",
       "    }\n",
       "</style>\n",
       "<table border=\"1\" class=\"dataframe\">\n",
       "  <thead>\n",
       "    <tr style=\"text-align: right;\">\n",
       "      <th></th>\n",
       "      <th>NPI</th>\n",
       "      <th>PAC ID</th>\n",
       "      <th>Professional Enrollment ID</th>\n",
       "      <th>Last Name</th>\n",
       "      <th>First Name</th>\n",
       "      <th>Middle Name</th>\n",
       "      <th>Suffix</th>\n",
       "      <th>Gender</th>\n",
       "      <th>Credential</th>\n",
       "      <th>Medical school name</th>\n",
       "      <th>...</th>\n",
       "      <th>Hospital affiliation CCN 3</th>\n",
       "      <th>Hospital affiliation LBN 3</th>\n",
       "      <th>Hospital affiliation CCN 4</th>\n",
       "      <th>Hospital affiliation LBN 4</th>\n",
       "      <th>Hospital affiliation CCN 5</th>\n",
       "      <th>Hospital affiliation LBN 5</th>\n",
       "      <th>Professional accepts Medicare Assignment</th>\n",
       "      <th>Reported Quality Measures</th>\n",
       "      <th>Used electronic health records</th>\n",
       "      <th>Committed to heart health through the Million Hearts® initiative.</th>\n",
       "    </tr>\n",
       "  </thead>\n",
       "  <tbody>\n",
       "  </tbody>\n",
       "</table>\n",
       "<p>0 rows × 41 columns</p>\n",
       "</div>"
      ],
      "text/plain": [
       "Empty DataFrame\n",
       "Columns: [NPI, PAC ID, Professional Enrollment ID, Last Name, First Name, Middle Name, Suffix, Gender, Credential, Medical school name, Graduation year, Primary specialty, Secondary specialty 1, Secondary specialty 2, Secondary specialty 3, Secondary specialty 4, All secondary specialties, Organization legal name, Group Practice PAC ID, Number of Group Practice members, Line 1 Street Address, Line 2 Street Address, Marker of address line 2 suppression, City, State, Zip Code, Phone Number, Hospital affiliation CCN 1, Hospital affiliation LBN 1, Hospital affiliation CCN 2, Hospital affiliation LBN 2, Hospital affiliation CCN 3, Hospital affiliation LBN 3, Hospital affiliation CCN 4, Hospital affiliation LBN 4, Hospital affiliation CCN 5, Hospital affiliation LBN 5, Professional accepts Medicare Assignment, Reported Quality Measures, Used electronic health records, Committed to heart health through the Million Hearts® initiative.]\n",
       "Index: []\n",
       "\n",
       "[0 rows x 41 columns]"
      ]
     },
     "execution_count": 4,
     "metadata": {},
     "output_type": "execute_result"
    }
   ],
   "source": [
    "ncpdf[ncpdf['NPI'].isnull()==True] #no null value in NPI"
   ]
  },
  {
   "cell_type": "code",
   "execution_count": 5,
   "metadata": {},
   "outputs": [
    {
     "data": {
      "text/plain": [
       "1070399"
      ]
     },
     "execution_count": 5,
     "metadata": {},
     "output_type": "execute_result"
    }
   ],
   "source": [
    "ncpdf['PAC ID'].nunique()"
   ]
  },
  {
   "cell_type": "code",
   "execution_count": 6,
   "metadata": {},
   "outputs": [
    {
     "name": "stdout",
     "output_type": "stream",
     "text": [
      "How many clinicians are in the dataset?: 1070395\n"
     ]
    }
   ],
   "source": [
    "print('How many clinicians are in the dataset?:', ncpdf['NPI'].nunique())# The written mistake may happened in PAC ID, which makes the No of PAC ID is a little bit more than that of NPI."
   ]
  },
  {
   "cell_type": "code",
   "execution_count": null,
   "metadata": {
    "collapsed": true
   },
   "outputs": [],
   "source": []
  },
  {
   "cell_type": "code",
   "execution_count": 7,
   "metadata": {
    "collapsed": true
   },
   "outputs": [],
   "source": [
    "num_F=len(ncpdf[ncpdf['Gender']=='F'].groupby('NPI')['Gender'])"
   ]
  },
  {
   "cell_type": "code",
   "execution_count": 8,
   "metadata": {
    "collapsed": true
   },
   "outputs": [],
   "source": [
    "num_M=len(ncpdf[ncpdf['Gender']=='M'].groupby('NPI')['Gender'])\n"
   ]
  },
  {
   "cell_type": "code",
   "execution_count": 9,
   "metadata": {},
   "outputs": [
    {
     "name": "stdout",
     "output_type": "stream",
     "text": [
      "What is the ratio of male to female clinicians?: 1.1742541194\n"
     ]
    }
   ],
   "source": [
    "ratio_m2f=num_M/num_F\n",
    "print('What is the ratio of male to female clinicians?:',\"{0:.10f}\".format(ratio_m2f))"
   ]
  },
  {
   "cell_type": "code",
   "execution_count": null,
   "metadata": {
    "collapsed": true
   },
   "outputs": [],
   "source": []
  },
  {
   "cell_type": "code",
   "execution_count": 10,
   "metadata": {
    "collapsed": true
   },
   "outputs": [],
   "source": [
    "ncpdf=pd.get_dummies(ncpdf,columns=['Gender'],drop_first=False)\n"
   ]
  },
  {
   "cell_type": "code",
   "execution_count": 11,
   "metadata": {},
   "outputs": [
    {
     "data": {
      "text/html": [
       "<div>\n",
       "<style>\n",
       "    .dataframe thead tr:only-child th {\n",
       "        text-align: right;\n",
       "    }\n",
       "\n",
       "    .dataframe thead th {\n",
       "        text-align: left;\n",
       "    }\n",
       "\n",
       "    .dataframe tbody tr th {\n",
       "        vertical-align: top;\n",
       "    }\n",
       "</style>\n",
       "<table border=\"1\" class=\"dataframe\">\n",
       "  <thead>\n",
       "    <tr style=\"text-align: right;\">\n",
       "      <th></th>\n",
       "      <th>State</th>\n",
       "      <th>Organization legal name</th>\n",
       "    </tr>\n",
       "  </thead>\n",
       "  <tbody>\n",
       "    <tr>\n",
       "      <th>0</th>\n",
       "      <td>CA</td>\n",
       "      <td>NaN</td>\n",
       "    </tr>\n",
       "    <tr>\n",
       "      <th>1</th>\n",
       "      <td>NJ</td>\n",
       "      <td>NaN</td>\n",
       "    </tr>\n",
       "    <tr>\n",
       "      <th>2</th>\n",
       "      <td>NY</td>\n",
       "      <td>NaN</td>\n",
       "    </tr>\n",
       "    <tr>\n",
       "      <th>3</th>\n",
       "      <td>NC</td>\n",
       "      <td>CAGEN FAMILY CHIROPRACTIC PLLC</td>\n",
       "    </tr>\n",
       "    <tr>\n",
       "      <th>4</th>\n",
       "      <td>GA</td>\n",
       "      <td>NaN</td>\n",
       "    </tr>\n",
       "  </tbody>\n",
       "</table>\n",
       "</div>"
      ],
      "text/plain": [
       "  State         Organization legal name\n",
       "0    CA                             NaN\n",
       "1    NJ                             NaN\n",
       "2    NY                             NaN\n",
       "3    NC  CAGEN FAMILY CHIROPRACTIC PLLC\n",
       "4    GA                             NaN"
      ]
     },
     "execution_count": 11,
     "metadata": {},
     "output_type": "execute_result"
    }
   ],
   "source": [
    "ncpdf[['State','Organization legal name']].head()"
   ]
  },
  {
   "cell_type": "code",
   "execution_count": 12,
   "metadata": {},
   "outputs": [
    {
     "name": "stdout",
     "output_type": "stream",
     "text": [
      " Highest ratio of female clinicians to male clinicians with a given type of credential: 1.0000000000\n"
     ]
    }
   ],
   "source": [
    "h_r_f_i_C=ncpdf.groupby('Credential')['Gender_F'].mean().max() \n",
    "print(' Highest ratio of female clinicians to male clinicians with a given type of credential:',\"{0:.10f}\".format(h_r_f_i_C))"
   ]
  },
  {
   "cell_type": "code",
   "execution_count": 13,
   "metadata": {},
   "outputs": [
    {
     "name": "stdout",
     "output_type": "stream",
     "text": [
      "<class 'pandas.core.frame.DataFrame'>\n",
      "RangeIndex: 2955262 entries, 0 to 2955261\n",
      "Data columns (total 43 columns):\n",
      "NPI                                                                  int64\n",
      "PAC ID                                                               int64\n",
      "Professional Enrollment ID                                           object\n",
      "Last Name                                                            object\n",
      "First Name                                                           object\n",
      "Middle Name                                                          object\n",
      "Suffix                                                               object\n",
      "Credential                                                           object\n",
      "Medical school name                                                  object\n",
      "Graduation year                                                      float64\n",
      "Primary specialty                                                    object\n",
      "Secondary specialty 1                                                object\n",
      "Secondary specialty 2                                                object\n",
      "Secondary specialty 3                                                object\n",
      "Secondary specialty 4                                                object\n",
      "All secondary specialties                                            object\n",
      "Organization legal name                                              object\n",
      "Group Practice PAC ID                                                float64\n",
      "Number of Group Practice members                                     float64\n",
      "Line 1 Street Address                                                object\n",
      "Line 2 Street Address                                                object\n",
      "Marker of address line 2 suppression                                 object\n",
      "City                                                                 object\n",
      "State                                                                object\n",
      "Zip Code                                                             object\n",
      "Phone Number                                                         object\n",
      "Hospital affiliation CCN 1                                           object\n",
      "Hospital affiliation LBN 1                                           object\n",
      "Hospital affiliation CCN 2                                           object\n",
      "Hospital affiliation LBN 2                                           object\n",
      "Hospital affiliation CCN 3                                           object\n",
      "Hospital affiliation LBN 3                                           object\n",
      "Hospital affiliation CCN 4                                           object\n",
      "Hospital affiliation LBN 4                                           object\n",
      "Hospital affiliation CCN 5                                           float64\n",
      "Hospital affiliation LBN 5                                           object\n",
      "Professional accepts Medicare Assignment                             object\n",
      "Reported Quality Measures                                            object\n",
      "Used electronic health records                                       object\n",
      "Committed to heart health through the Million Hearts® initiative.    object\n",
      "Gender_F                                                             uint8\n",
      "Gender_M                                                             uint8\n",
      "Gender_U                                                             uint8\n",
      "dtypes: float64(4), int64(2), object(34), uint8(3)\n",
      "memory usage: 910.3+ MB\n"
     ]
    }
   ],
   "source": [
    "ncpdf.info()"
   ]
  },
  {
   "cell_type": "code",
   "execution_count": null,
   "metadata": {
    "collapsed": true
   },
   "outputs": [],
   "source": []
  },
  {
   "cell_type": "code",
   "execution_count": null,
   "metadata": {
    "collapsed": true
   },
   "outputs": [],
   "source": []
  },
  {
   "cell_type": "code",
   "execution_count": 14,
   "metadata": {
    "collapsed": true
   },
   "outputs": [],
   "source": [
    "num_facility=len(ncpdf.groupby('State')['Organization legal name'].nunique()[ncpdf.groupby('State')['Organization legal name'].nunique()<10])"
   ]
  },
  {
   "cell_type": "code",
   "execution_count": 15,
   "metadata": {},
   "outputs": [
    {
     "name": "stdout",
     "output_type": "stream",
     "text": [
      "How many states have fewer than 10 healthcare facilities in this dataset? 0\n"
     ]
    }
   ],
   "source": [
    "print ('How many states have fewer than 10 healthcare facilities in this dataset?',num_facility)"
   ]
  },
  {
   "cell_type": "code",
   "execution_count": 16,
   "metadata": {},
   "outputs": [
    {
     "data": {
      "text/html": [
       "<div>\n",
       "<style>\n",
       "    .dataframe thead tr:only-child th {\n",
       "        text-align: right;\n",
       "    }\n",
       "\n",
       "    .dataframe thead th {\n",
       "        text-align: left;\n",
       "    }\n",
       "\n",
       "    .dataframe tbody tr th {\n",
       "        vertical-align: top;\n",
       "    }\n",
       "</style>\n",
       "<table border=\"1\" class=\"dataframe\">\n",
       "  <thead>\n",
       "    <tr style=\"text-align: right;\">\n",
       "      <th></th>\n",
       "      <th>NPI</th>\n",
       "      <th>PAC ID</th>\n",
       "      <th>Last Name</th>\n",
       "      <th>First Name</th>\n",
       "      <th>Measure Identifier</th>\n",
       "      <th>Measure Title</th>\n",
       "      <th>Inverse Measure</th>\n",
       "      <th>Measure Performance Rate</th>\n",
       "      <th>Reporting Mechanism</th>\n",
       "      <th>Reported on PC Live Site</th>\n",
       "    </tr>\n",
       "  </thead>\n",
       "  <tbody>\n",
       "    <tr>\n",
       "      <th>0</th>\n",
       "      <td>1508823618</td>\n",
       "      <td>42100117</td>\n",
       "      <td>GRIFFIN</td>\n",
       "      <td>DAVID</td>\n",
       "      <td>PQRS_EP_110_1</td>\n",
       "      <td>Preventive Care and Screening: Influenza Immun...</td>\n",
       "      <td>N</td>\n",
       "      <td>21</td>\n",
       "      <td>CLM</td>\n",
       "      <td>Y</td>\n",
       "    </tr>\n",
       "    <tr>\n",
       "      <th>1</th>\n",
       "      <td>1508823618</td>\n",
       "      <td>42100117</td>\n",
       "      <td>GRIFFIN</td>\n",
       "      <td>DAVID</td>\n",
       "      <td>PQRS_EP_111_1</td>\n",
       "      <td>Pneumonia Vaccination Status for Older Adults</td>\n",
       "      <td>N</td>\n",
       "      <td>28</td>\n",
       "      <td>CLM</td>\n",
       "      <td>Y</td>\n",
       "    </tr>\n",
       "    <tr>\n",
       "      <th>2</th>\n",
       "      <td>1508823618</td>\n",
       "      <td>42100117</td>\n",
       "      <td>GRIFFIN</td>\n",
       "      <td>DAVID</td>\n",
       "      <td>PQRS_EP_112_1</td>\n",
       "      <td>Breast Cancer Screening</td>\n",
       "      <td>N</td>\n",
       "      <td>37</td>\n",
       "      <td>CLM</td>\n",
       "      <td>Y</td>\n",
       "    </tr>\n",
       "    <tr>\n",
       "      <th>3</th>\n",
       "      <td>1508823618</td>\n",
       "      <td>42100117</td>\n",
       "      <td>GRIFFIN</td>\n",
       "      <td>DAVID</td>\n",
       "      <td>PQRS_EP_113_1</td>\n",
       "      <td>Colorectal Cancer Screening</td>\n",
       "      <td>N</td>\n",
       "      <td>22</td>\n",
       "      <td>CLM</td>\n",
       "      <td>Y</td>\n",
       "    </tr>\n",
       "    <tr>\n",
       "      <th>4</th>\n",
       "      <td>1508823618</td>\n",
       "      <td>42100117</td>\n",
       "      <td>GRIFFIN</td>\n",
       "      <td>DAVID</td>\n",
       "      <td>PQRS_EP_128_1</td>\n",
       "      <td>Preventive Care and Screening: Body Mass Index...</td>\n",
       "      <td>N</td>\n",
       "      <td>42</td>\n",
       "      <td>CLM</td>\n",
       "      <td>Y</td>\n",
       "    </tr>\n",
       "  </tbody>\n",
       "</table>\n",
       "</div>"
      ],
      "text/plain": [
       "          NPI    PAC ID Last Name First Name Measure Identifier  \\\n",
       "0  1508823618  42100117   GRIFFIN      DAVID      PQRS_EP_110_1   \n",
       "1  1508823618  42100117   GRIFFIN      DAVID      PQRS_EP_111_1   \n",
       "2  1508823618  42100117   GRIFFIN      DAVID      PQRS_EP_112_1   \n",
       "3  1508823618  42100117   GRIFFIN      DAVID      PQRS_EP_113_1   \n",
       "4  1508823618  42100117   GRIFFIN      DAVID      PQRS_EP_128_1   \n",
       "\n",
       "                                       Measure Title Inverse Measure  \\\n",
       "0  Preventive Care and Screening: Influenza Immun...               N   \n",
       "1      Pneumonia Vaccination Status for Older Adults               N   \n",
       "2                            Breast Cancer Screening               N   \n",
       "3                        Colorectal Cancer Screening               N   \n",
       "4  Preventive Care and Screening: Body Mass Index...               N   \n",
       "\n",
       "   Measure Performance Rate Reporting Mechanism Reported on PC Live Site  \n",
       "0                        21                 CLM                        Y  \n",
       "1                        28                 CLM                        Y  \n",
       "2                        37                 CLM                        Y  \n",
       "3                        22                 CLM                        Y  \n",
       "4                        42                 CLM                        Y  "
      ]
     },
     "execution_count": 16,
     "metadata": {},
     "output_type": "execute_result"
    }
   ],
   "source": [
    "pc2ieprps=pd.read_csv('Physician_Compare_2015_Individual_EP_Public_Reporting___Performance_Scores.csv')\n",
    "pc2ieprps.head()"
   ]
  },
  {
   "cell_type": "code",
   "execution_count": 17,
   "metadata": {},
   "outputs": [
    {
     "name": "stdout",
     "output_type": "stream",
     "text": [
      "<class 'pandas.core.frame.DataFrame'>\n",
      "RangeIndex: 495417 entries, 0 to 495416\n",
      "Data columns (total 10 columns):\n",
      "NPI                         495417 non-null int64\n",
      "PAC ID                      495417 non-null int64\n",
      "Last Name                   495411 non-null object\n",
      "First Name                  495417 non-null object\n",
      "Measure Identifier          495417 non-null object\n",
      "Measure Title               495417 non-null object\n",
      "Inverse Measure             495417 non-null object\n",
      "Measure Performance Rate    495417 non-null int64\n",
      "Reporting Mechanism         495417 non-null object\n",
      "Reported on PC Live Site    495417 non-null object\n",
      "dtypes: int64(3), object(7)\n",
      "memory usage: 37.8+ MB\n"
     ]
    }
   ],
   "source": [
    "pc2ieprps.info()\n",
    "\n"
   ]
  },
  {
   "cell_type": "code",
   "execution_count": 18,
   "metadata": {},
   "outputs": [
    {
     "data": {
      "text/plain": [
       "180723"
      ]
     },
     "execution_count": 18,
     "metadata": {},
     "output_type": "execute_result"
    }
   ],
   "source": [
    "\n",
    "pc2ieprps['NPI'].nunique()"
   ]
  },
  {
   "cell_type": "code",
   "execution_count": 19,
   "metadata": {
    "collapsed": true
   },
   "outputs": [],
   "source": [
    "PR_m=pc2ieprps.groupby('NPI')['Measure Performance Rate'].mean()[pc2ieprps.groupby('NPI')['Measure Performance Rate'].count()>9]"
   ]
  },
  {
   "cell_type": "code",
   "execution_count": 20,
   "metadata": {},
   "outputs": [
    {
     "data": {
      "text/plain": [
       "<matplotlib.axes._subplots.AxesSubplot at 0x18881c6c668>"
      ]
     },
     "execution_count": 20,
     "metadata": {},
     "output_type": "execute_result"
    },
    {
     "data": {
      "image/png": "[encoded data removed]",
      "text/plain": [
       "<matplotlib.figure.Figure at 0x188814f3b38>"
      ]
     },
     "metadata": {},
     "output_type": "display_data"
    }
   ],
   "source": [
    "import matplotlib.pyplot as plt\n",
    "%matplotlib inline\n",
    "PR_m.hist()"
   ]
  },
  {
   "cell_type": "code",
   "execution_count": 21,
   "metadata": {
    "collapsed": true
   },
   "outputs": [],
   "source": [
    "std_PR_m=PR_m.std()"
   ]
  },
  {
   "cell_type": "code",
   "execution_count": 22,
   "metadata": {},
   "outputs": [
    {
     "name": "stdout",
     "output_type": "stream",
     "text": [
      "What is the standard deviation of that distribution of these average rates for individuals who have at least 10? 15.9597540139\n"
     ]
    }
   ],
   "source": [
    "print('What is the standard deviation of that distribution of these average rates for individuals who have at least 10?',\"{0:.10f}\".format(std_PR_m))"
   ]
  },
  {
   "cell_type": "code",
   "execution_count": 23,
   "metadata": {
    "collapsed": true
   },
   "outputs": [],
   "source": [
    "NPI_Cred=ncpdf.groupby('NPI')['Credential'].value_counts()\n",
    "\n",
    "NPI=[i[0] for i in NPI_Cred.index]\n",
    "Cre=[i[1] for i in NPI_Cred.index]"
   ]
  },
  {
   "cell_type": "code",
   "execution_count": 24,
   "metadata": {},
   "outputs": [
    {
     "data": {
      "text/plain": [
       "341010"
      ]
     },
     "execution_count": 24,
     "metadata": {},
     "output_type": "execute_result"
    }
   ],
   "source": [
    "NPI_Cred=pd.DataFrame({'NPI':NPI, 'Credential':Cre})\n",
    "NPI_Cred['NPI'].nunique()"
   ]
  },
  {
   "cell_type": "code",
   "execution_count": 25,
   "metadata": {},
   "outputs": [
    {
     "name": "stdout",
     "output_type": "stream",
     "text": [
      "<class 'pandas.core.frame.DataFrame'>\n",
      "Int64Index: 495417 entries, 0 to 495416\n",
      "Data columns (total 11 columns):\n",
      "NPI                         495417 non-null int64\n",
      "PAC ID                      495417 non-null int64\n",
      "Last Name                   495411 non-null object\n",
      "First Name                  495417 non-null object\n",
      "Measure Identifier          495417 non-null object\n",
      "Measure Title               495417 non-null object\n",
      "Inverse Measure             495417 non-null object\n",
      "Measure Performance Rate    495417 non-null int64\n",
      "Reporting Mechanism         495417 non-null object\n",
      "Reported on PC Live Site    495417 non-null object\n",
      "Credential                  187012 non-null object\n",
      "dtypes: int64(3), object(8)\n",
      "memory usage: 45.4+ MB\n"
     ]
    }
   ],
   "source": [
    "pc2ieprps=pd.merge(pc2ieprps,NPI_Cred,how='left', on='NPI')\n",
    "pc2ieprps.info()"
   ]
  },
  {
   "cell_type": "code",
   "execution_count": 26,
   "metadata": {},
   "outputs": [
    {
     "data": {
      "text/html": [
       "<div>\n",
       "<style>\n",
       "    .dataframe thead tr:only-child th {\n",
       "        text-align: right;\n",
       "    }\n",
       "\n",
       "    .dataframe thead th {\n",
       "        text-align: left;\n",
       "    }\n",
       "\n",
       "    .dataframe tbody tr th {\n",
       "        vertical-align: top;\n",
       "    }\n",
       "</style>\n",
       "<table border=\"1\" class=\"dataframe\">\n",
       "  <thead>\n",
       "    <tr style=\"text-align: right;\">\n",
       "      <th></th>\n",
       "      <th>NPI</th>\n",
       "      <th>PAC ID</th>\n",
       "      <th>Last Name</th>\n",
       "      <th>First Name</th>\n",
       "      <th>Measure Identifier</th>\n",
       "      <th>Measure Title</th>\n",
       "      <th>Inverse Measure</th>\n",
       "      <th>Measure Performance Rate</th>\n",
       "      <th>Reporting Mechanism</th>\n",
       "      <th>Reported on PC Live Site</th>\n",
       "      <th>Credential</th>\n",
       "    </tr>\n",
       "  </thead>\n",
       "  <tbody>\n",
       "    <tr>\n",
       "      <th>0</th>\n",
       "      <td>1508823618</td>\n",
       "      <td>42100117</td>\n",
       "      <td>GRIFFIN</td>\n",
       "      <td>DAVID</td>\n",
       "      <td>PQRS_EP_110_1</td>\n",
       "      <td>Preventive Care and Screening: Influenza Immun...</td>\n",
       "      <td>N</td>\n",
       "      <td>21</td>\n",
       "      <td>CLM</td>\n",
       "      <td>Y</td>\n",
       "      <td>MD</td>\n",
       "    </tr>\n",
       "    <tr>\n",
       "      <th>1</th>\n",
       "      <td>1508823618</td>\n",
       "      <td>42100117</td>\n",
       "      <td>GRIFFIN</td>\n",
       "      <td>DAVID</td>\n",
       "      <td>PQRS_EP_111_1</td>\n",
       "      <td>Pneumonia Vaccination Status for Older Adults</td>\n",
       "      <td>N</td>\n",
       "      <td>28</td>\n",
       "      <td>CLM</td>\n",
       "      <td>Y</td>\n",
       "      <td>MD</td>\n",
       "    </tr>\n",
       "    <tr>\n",
       "      <th>2</th>\n",
       "      <td>1508823618</td>\n",
       "      <td>42100117</td>\n",
       "      <td>GRIFFIN</td>\n",
       "      <td>DAVID</td>\n",
       "      <td>PQRS_EP_112_1</td>\n",
       "      <td>Breast Cancer Screening</td>\n",
       "      <td>N</td>\n",
       "      <td>37</td>\n",
       "      <td>CLM</td>\n",
       "      <td>Y</td>\n",
       "      <td>MD</td>\n",
       "    </tr>\n",
       "    <tr>\n",
       "      <th>3</th>\n",
       "      <td>1508823618</td>\n",
       "      <td>42100117</td>\n",
       "      <td>GRIFFIN</td>\n",
       "      <td>DAVID</td>\n",
       "      <td>PQRS_EP_113_1</td>\n",
       "      <td>Colorectal Cancer Screening</td>\n",
       "      <td>N</td>\n",
       "      <td>22</td>\n",
       "      <td>CLM</td>\n",
       "      <td>Y</td>\n",
       "      <td>MD</td>\n",
       "    </tr>\n",
       "    <tr>\n",
       "      <th>4</th>\n",
       "      <td>1508823618</td>\n",
       "      <td>42100117</td>\n",
       "      <td>GRIFFIN</td>\n",
       "      <td>DAVID</td>\n",
       "      <td>PQRS_EP_128_1</td>\n",
       "      <td>Preventive Care and Screening: Body Mass Index...</td>\n",
       "      <td>N</td>\n",
       "      <td>42</td>\n",
       "      <td>CLM</td>\n",
       "      <td>Y</td>\n",
       "      <td>MD</td>\n",
       "    </tr>\n",
       "  </tbody>\n",
       "</table>\n",
       "</div>"
      ],
      "text/plain": [
       "          NPI    PAC ID Last Name First Name Measure Identifier  \\\n",
       "0  1508823618  42100117   GRIFFIN      DAVID      PQRS_EP_110_1   \n",
       "1  1508823618  42100117   GRIFFIN      DAVID      PQRS_EP_111_1   \n",
       "2  1508823618  42100117   GRIFFIN      DAVID      PQRS_EP_112_1   \n",
       "3  1508823618  42100117   GRIFFIN      DAVID      PQRS_EP_113_1   \n",
       "4  1508823618  42100117   GRIFFIN      DAVID      PQRS_EP_128_1   \n",
       "\n",
       "                                       Measure Title Inverse Measure  \\\n",
       "0  Preventive Care and Screening: Influenza Immun...               N   \n",
       "1      Pneumonia Vaccination Status for Older Adults               N   \n",
       "2                            Breast Cancer Screening               N   \n",
       "3                        Colorectal Cancer Screening               N   \n",
       "4  Preventive Care and Screening: Body Mass Index...               N   \n",
       "\n",
       "   Measure Performance Rate Reporting Mechanism Reported on PC Live Site  \\\n",
       "0                        21                 CLM                        Y   \n",
       "1                        28                 CLM                        Y   \n",
       "2                        37                 CLM                        Y   \n",
       "3                        22                 CLM                        Y   \n",
       "4                        42                 CLM                        Y   \n",
       "\n",
       "  Credential  \n",
       "0         MD  \n",
       "1         MD  \n",
       "2         MD  \n",
       "3         MD  \n",
       "4         MD  "
      ]
     },
     "execution_count": 26,
     "metadata": {},
     "output_type": "execute_result"
    }
   ],
   "source": [
    "pc2ieprps.head()"
   ]
  },
  {
   "cell_type": "code",
   "execution_count": 27,
   "metadata": {},
   "outputs": [
    {
     "data": {
      "text/plain": [
       "180723"
      ]
     },
     "execution_count": 27,
     "metadata": {},
     "output_type": "execute_result"
    }
   ],
   "source": [
    "pc2ieprps['NPI'].nunique()"
   ]
  },
  {
   "cell_type": "code",
   "execution_count": 28,
   "metadata": {
    "collapsed": true
   },
   "outputs": [],
   "source": [
    "NPI_Grady=ncpdf.groupby('NPI')['Graduation year'].value_counts()\n",
    "\n",
    "#NPI_Cred=pd.DataFrame({'NPI':NPI_Cred.index[, 'Credential':NPI_Cred.index[1]})\n",
    "NPI=[i[0] for i in NPI_Grady.index]\n",
    "Grady=[i[1] for i in NPI_Grady.index]"
   ]
  },
  {
   "cell_type": "code",
   "execution_count": 29,
   "metadata": {},
   "outputs": [
    {
     "data": {
      "text/plain": [
       "1067591"
      ]
     },
     "execution_count": 29,
     "metadata": {},
     "output_type": "execute_result"
    }
   ],
   "source": [
    "NPI_Grady=pd.DataFrame({'NPI':NPI, 'Graduation year':Grady})\n",
    "NPI_Grady['NPI'].nunique()"
   ]
  },
  {
   "cell_type": "code",
   "execution_count": 30,
   "metadata": {},
   "outputs": [
    {
     "name": "stdout",
     "output_type": "stream",
     "text": [
      "<class 'pandas.core.frame.DataFrame'>\n",
      "Int64Index: 495417 entries, 0 to 495416\n",
      "Data columns (total 12 columns):\n",
      "NPI                         495417 non-null int64\n",
      "PAC ID                      495417 non-null int64\n",
      "Last Name                   495411 non-null object\n",
      "First Name                  495417 non-null object\n",
      "Measure Identifier          495417 non-null object\n",
      "Measure Title               495417 non-null object\n",
      "Inverse Measure             495417 non-null object\n",
      "Measure Performance Rate    495417 non-null int64\n",
      "Reporting Mechanism         495417 non-null object\n",
      "Reported on PC Live Site    495417 non-null object\n",
      "Credential                  187012 non-null object\n",
      "Graduation year             473535 non-null float64\n",
      "dtypes: float64(1), int64(3), object(8)\n",
      "memory usage: 49.1+ MB\n"
     ]
    }
   ],
   "source": [
    "pc2ieprps=pd.merge(pc2ieprps,NPI_Grady,how='left', on='NPI')\n",
    "pc2ieprps.info()"
   ]
  },
  {
   "cell_type": "code",
   "execution_count": 31,
   "metadata": {},
   "outputs": [
    {
     "data": {
      "text/html": [
       "<div>\n",
       "<style>\n",
       "    .dataframe thead tr:only-child th {\n",
       "        text-align: right;\n",
       "    }\n",
       "\n",
       "    .dataframe thead th {\n",
       "        text-align: left;\n",
       "    }\n",
       "\n",
       "    .dataframe tbody tr th {\n",
       "        vertical-align: top;\n",
       "    }\n",
       "</style>\n",
       "<table border=\"1\" class=\"dataframe\">\n",
       "  <thead>\n",
       "    <tr style=\"text-align: right;\">\n",
       "      <th></th>\n",
       "      <th>NPI</th>\n",
       "      <th>PAC ID</th>\n",
       "      <th>Last Name</th>\n",
       "      <th>First Name</th>\n",
       "      <th>Measure Identifier</th>\n",
       "      <th>Measure Title</th>\n",
       "      <th>Inverse Measure</th>\n",
       "      <th>Measure Performance Rate</th>\n",
       "      <th>Reporting Mechanism</th>\n",
       "      <th>Reported on PC Live Site</th>\n",
       "      <th>Credential</th>\n",
       "      <th>Graduation year</th>\n",
       "    </tr>\n",
       "  </thead>\n",
       "  <tbody>\n",
       "    <tr>\n",
       "      <th>0</th>\n",
       "      <td>1508823618</td>\n",
       "      <td>42100117</td>\n",
       "      <td>GRIFFIN</td>\n",
       "      <td>DAVID</td>\n",
       "      <td>PQRS_EP_110_1</td>\n",
       "      <td>Preventive Care and Screening: Influenza Immun...</td>\n",
       "      <td>N</td>\n",
       "      <td>21</td>\n",
       "      <td>CLM</td>\n",
       "      <td>Y</td>\n",
       "      <td>MD</td>\n",
       "      <td>1996.0</td>\n",
       "    </tr>\n",
       "    <tr>\n",
       "      <th>1</th>\n",
       "      <td>1508823618</td>\n",
       "      <td>42100117</td>\n",
       "      <td>GRIFFIN</td>\n",
       "      <td>DAVID</td>\n",
       "      <td>PQRS_EP_111_1</td>\n",
       "      <td>Pneumonia Vaccination Status for Older Adults</td>\n",
       "      <td>N</td>\n",
       "      <td>28</td>\n",
       "      <td>CLM</td>\n",
       "      <td>Y</td>\n",
       "      <td>MD</td>\n",
       "      <td>1996.0</td>\n",
       "    </tr>\n",
       "    <tr>\n",
       "      <th>2</th>\n",
       "      <td>1508823618</td>\n",
       "      <td>42100117</td>\n",
       "      <td>GRIFFIN</td>\n",
       "      <td>DAVID</td>\n",
       "      <td>PQRS_EP_112_1</td>\n",
       "      <td>Breast Cancer Screening</td>\n",
       "      <td>N</td>\n",
       "      <td>37</td>\n",
       "      <td>CLM</td>\n",
       "      <td>Y</td>\n",
       "      <td>MD</td>\n",
       "      <td>1996.0</td>\n",
       "    </tr>\n",
       "    <tr>\n",
       "      <th>3</th>\n",
       "      <td>1508823618</td>\n",
       "      <td>42100117</td>\n",
       "      <td>GRIFFIN</td>\n",
       "      <td>DAVID</td>\n",
       "      <td>PQRS_EP_113_1</td>\n",
       "      <td>Colorectal Cancer Screening</td>\n",
       "      <td>N</td>\n",
       "      <td>22</td>\n",
       "      <td>CLM</td>\n",
       "      <td>Y</td>\n",
       "      <td>MD</td>\n",
       "      <td>1996.0</td>\n",
       "    </tr>\n",
       "    <tr>\n",
       "      <th>4</th>\n",
       "      <td>1508823618</td>\n",
       "      <td>42100117</td>\n",
       "      <td>GRIFFIN</td>\n",
       "      <td>DAVID</td>\n",
       "      <td>PQRS_EP_128_1</td>\n",
       "      <td>Preventive Care and Screening: Body Mass Index...</td>\n",
       "      <td>N</td>\n",
       "      <td>42</td>\n",
       "      <td>CLM</td>\n",
       "      <td>Y</td>\n",
       "      <td>MD</td>\n",
       "      <td>1996.0</td>\n",
       "    </tr>\n",
       "  </tbody>\n",
       "</table>\n",
       "</div>"
      ],
      "text/plain": [
       "          NPI    PAC ID Last Name First Name Measure Identifier  \\\n",
       "0  1508823618  42100117   GRIFFIN      DAVID      PQRS_EP_110_1   \n",
       "1  1508823618  42100117   GRIFFIN      DAVID      PQRS_EP_111_1   \n",
       "2  1508823618  42100117   GRIFFIN      DAVID      PQRS_EP_112_1   \n",
       "3  1508823618  42100117   GRIFFIN      DAVID      PQRS_EP_113_1   \n",
       "4  1508823618  42100117   GRIFFIN      DAVID      PQRS_EP_128_1   \n",
       "\n",
       "                                       Measure Title Inverse Measure  \\\n",
       "0  Preventive Care and Screening: Influenza Immun...               N   \n",
       "1      Pneumonia Vaccination Status for Older Adults               N   \n",
       "2                            Breast Cancer Screening               N   \n",
       "3                        Colorectal Cancer Screening               N   \n",
       "4  Preventive Care and Screening: Body Mass Index...               N   \n",
       "\n",
       "   Measure Performance Rate Reporting Mechanism Reported on PC Live Site  \\\n",
       "0                        21                 CLM                        Y   \n",
       "1                        28                 CLM                        Y   \n",
       "2                        37                 CLM                        Y   \n",
       "3                        22                 CLM                        Y   \n",
       "4                        42                 CLM                        Y   \n",
       "\n",
       "  Credential  Graduation year  \n",
       "0         MD           1996.0  \n",
       "1         MD           1996.0  \n",
       "2         MD           1996.0  \n",
       "3         MD           1996.0  \n",
       "4         MD           1996.0  "
      ]
     },
     "execution_count": 31,
     "metadata": {},
     "output_type": "execute_result"
    }
   ],
   "source": [
    "pc2ieprps.head()"
   ]
  },
  {
   "cell_type": "code",
   "execution_count": 42,
   "metadata": {},
   "outputs": [
    {
     "data": {
      "text/html": [
       "<div>\n",
       "<style>\n",
       "    .dataframe thead tr:only-child th {\n",
       "        text-align: right;\n",
       "    }\n",
       "\n",
       "    .dataframe thead th {\n",
       "        text-align: left;\n",
       "    }\n",
       "\n",
       "    .dataframe tbody tr th {\n",
       "        vertical-align: top;\n",
       "    }\n",
       "</style>\n",
       "<table border=\"1\" class=\"dataframe\">\n",
       "  <thead>\n",
       "    <tr style=\"text-align: right;\">\n",
       "      <th></th>\n",
       "      <th>NPI</th>\n",
       "      <th>PAC ID</th>\n",
       "      <th>Last Name</th>\n",
       "      <th>First Name</th>\n",
       "      <th>Measure Identifier</th>\n",
       "      <th>Measure Title</th>\n",
       "      <th>Inverse Measure</th>\n",
       "      <th>Measure Performance Rate</th>\n",
       "      <th>Reporting Mechanism</th>\n",
       "      <th>Reported on PC Live Site</th>\n",
       "      <th>Credential</th>\n",
       "      <th>Graduation year</th>\n",
       "    </tr>\n",
       "  </thead>\n",
       "  <tbody>\n",
       "    <tr>\n",
       "      <th>0</th>\n",
       "      <td>1508823618</td>\n",
       "      <td>42100117</td>\n",
       "      <td>GRIFFIN</td>\n",
       "      <td>DAVID</td>\n",
       "      <td>PQRS_EP_110_1</td>\n",
       "      <td>Preventive Care and Screening: Influenza Immun...</td>\n",
       "      <td>N</td>\n",
       "      <td>21</td>\n",
       "      <td>CLM</td>\n",
       "      <td>Y</td>\n",
       "      <td>MD</td>\n",
       "      <td>1996.0</td>\n",
       "    </tr>\n",
       "    <tr>\n",
       "      <th>1</th>\n",
       "      <td>1508823618</td>\n",
       "      <td>42100117</td>\n",
       "      <td>GRIFFIN</td>\n",
       "      <td>DAVID</td>\n",
       "      <td>PQRS_EP_111_1</td>\n",
       "      <td>Pneumonia Vaccination Status for Older Adults</td>\n",
       "      <td>N</td>\n",
       "      <td>28</td>\n",
       "      <td>CLM</td>\n",
       "      <td>Y</td>\n",
       "      <td>MD</td>\n",
       "      <td>1996.0</td>\n",
       "    </tr>\n",
       "    <tr>\n",
       "      <th>2</th>\n",
       "      <td>1508823618</td>\n",
       "      <td>42100117</td>\n",
       "      <td>GRIFFIN</td>\n",
       "      <td>DAVID</td>\n",
       "      <td>PQRS_EP_112_1</td>\n",
       "      <td>Breast Cancer Screening</td>\n",
       "      <td>N</td>\n",
       "      <td>37</td>\n",
       "      <td>CLM</td>\n",
       "      <td>Y</td>\n",
       "      <td>MD</td>\n",
       "      <td>1996.0</td>\n",
       "    </tr>\n",
       "    <tr>\n",
       "      <th>3</th>\n",
       "      <td>1508823618</td>\n",
       "      <td>42100117</td>\n",
       "      <td>GRIFFIN</td>\n",
       "      <td>DAVID</td>\n",
       "      <td>PQRS_EP_113_1</td>\n",
       "      <td>Colorectal Cancer Screening</td>\n",
       "      <td>N</td>\n",
       "      <td>22</td>\n",
       "      <td>CLM</td>\n",
       "      <td>Y</td>\n",
       "      <td>MD</td>\n",
       "      <td>1996.0</td>\n",
       "    </tr>\n",
       "    <tr>\n",
       "      <th>4</th>\n",
       "      <td>1508823618</td>\n",
       "      <td>42100117</td>\n",
       "      <td>GRIFFIN</td>\n",
       "      <td>DAVID</td>\n",
       "      <td>PQRS_EP_128_1</td>\n",
       "      <td>Preventive Care and Screening: Body Mass Index...</td>\n",
       "      <td>N</td>\n",
       "      <td>42</td>\n",
       "      <td>CLM</td>\n",
       "      <td>Y</td>\n",
       "      <td>MD</td>\n",
       "      <td>1996.0</td>\n",
       "    </tr>\n",
       "  </tbody>\n",
       "</table>\n",
       "</div>"
      ],
      "text/plain": [
       "          NPI    PAC ID Last Name First Name Measure Identifier  \\\n",
       "0  1508823618  42100117   GRIFFIN      DAVID      PQRS_EP_110_1   \n",
       "1  1508823618  42100117   GRIFFIN      DAVID      PQRS_EP_111_1   \n",
       "2  1508823618  42100117   GRIFFIN      DAVID      PQRS_EP_112_1   \n",
       "3  1508823618  42100117   GRIFFIN      DAVID      PQRS_EP_113_1   \n",
       "4  1508823618  42100117   GRIFFIN      DAVID      PQRS_EP_128_1   \n",
       "\n",
       "                                       Measure Title Inverse Measure  \\\n",
       "0  Preventive Care and Screening: Influenza Immun...               N   \n",
       "1      Pneumonia Vaccination Status for Older Adults               N   \n",
       "2                            Breast Cancer Screening               N   \n",
       "3                        Colorectal Cancer Screening               N   \n",
       "4  Preventive Care and Screening: Body Mass Index...               N   \n",
       "\n",
       "   Measure Performance Rate Reporting Mechanism Reported on PC Live Site  \\\n",
       "0                        21                 CLM                        Y   \n",
       "1                        28                 CLM                        Y   \n",
       "2                        37                 CLM                        Y   \n",
       "3                        22                 CLM                        Y   \n",
       "4                        42                 CLM                        Y   \n",
       "\n",
       "  Credential  Graduation year  \n",
       "0         MD           1996.0  \n",
       "1         MD           1996.0  \n",
       "2         MD           1996.0  \n",
       "3         MD           1996.0  \n",
       "4         MD           1996.0  "
      ]
     },
     "execution_count": 42,
     "metadata": {},
     "output_type": "execute_result"
    }
   ],
   "source": [
    "pc2ieprps_7306=pc2ieprps[(pc2ieprps['Graduation year']>1972) & (pc2ieprps['Graduation year']<2007) & (pc2ieprps['Credential']=='MD')]\n",
    "pc2ieprps_7306.head()"
   ]
  },
  {
   "cell_type": "code",
   "execution_count": 43,
   "metadata": {
    "collapsed": true
   },
   "outputs": [],
   "source": [
    "PR7306_10=pc2ieprps_7306.groupby('NPI')['Measure Performance Rate'].mean()[pc2ieprps_7306.groupby('NPI')['Measure Performance Rate'].count()>9]"
   ]
  },
  {
   "cell_type": "code",
   "execution_count": null,
   "metadata": {
    "collapsed": true
   },
   "outputs": [],
   "source": []
  },
  {
   "cell_type": "code",
   "execution_count": 44,
   "metadata": {},
   "outputs": [],
   "source": [
    "PR7306_gy=pc2ieprps_7306.groupby('NPI')['Graduation year'].mean()[pc2ieprps_7306.groupby('NPI')['Measure Performance Rate'].count()>9]"
   ]
  },
  {
   "cell_type": "code",
   "execution_count": 45,
   "metadata": {},
   "outputs": [
    {
     "data": {
      "text/plain": [
       "NPI\n",
       "1003800145    1982.0\n",
       "1003846056    1991.0\n",
       "1003874025    1998.0\n",
       "1003880238    1997.0\n",
       "1003893454    1994.0\n",
       "Name: Graduation year, dtype: float64"
      ]
     },
     "execution_count": 45,
     "metadata": {},
     "output_type": "execute_result"
    }
   ],
   "source": [
    "PR7306_gy.head()"
   ]
  },
  {
   "cell_type": "code",
   "execution_count": 46,
   "metadata": {},
   "outputs": [],
   "source": [
    "Grady_MPrate=pd.DataFrame({'NPI':PR7306_10.index,'Measure Performance Rate':PR7306_10.values,'Graduation year':PR7306_gy.values})"
   ]
  },
  {
   "cell_type": "code",
   "execution_count": 47,
   "metadata": {},
   "outputs": [],
   "source": [
    "x=Grady_MPrate['Graduation year']\n",
    "y=Grady_MPrate['Measure Performance Rate']"
   ]
  },
  {
   "cell_type": "code",
   "execution_count": 48,
   "metadata": {},
   "outputs": [],
   "source": [
    "from scipy import stats\n",
    "import numpy as np\n",
    "slope, intercept, r_value, p_value, std_err = stats.linregress(x,y)"
   ]
  },
  {
   "cell_type": "code",
   "execution_count": 49,
   "metadata": {},
   "outputs": [
    {
     "name": "stdout",
     "output_type": "stream",
     "text": [
      "the p-value of the linear regression is: 0.450972091979\n"
     ]
    }
   ],
   "source": [
    "print('the p-value of the linear regression is:',p_value)"
   ]
  },
  {
   "cell_type": "code",
   "execution_count": 53,
   "metadata": {},
   "outputs": [],
   "source": [
    "pc2ieprps_MD=pc2ieprps[(pc2ieprps['Credential']=='MD')]\n",
    "pc2ieprps_NP=pc2ieprps[(pc2ieprps['Credential']=='NP')]"
   ]
  },
  {
   "cell_type": "code",
   "execution_count": 54,
   "metadata": {},
   "outputs": [],
   "source": [
    "PRMD_10=pc2ieprps_MD.groupby('NPI')['Measure Performance Rate'].mean()[pc2ieprps_MD.groupby('NPI')['Measure Performance Rate'].count()>9]"
   ]
  },
  {
   "cell_type": "code",
   "execution_count": 55,
   "metadata": {},
   "outputs": [],
   "source": [
    "PRNP_10=pc2ieprps_NP.groupby('NPI')['Measure Performance Rate'].mean()[pc2ieprps_NP.groupby('NPI')['Measure Performance Rate'].count()>9]"
   ]
  },
  {
   "cell_type": "code",
   "execution_count": 56,
   "metadata": {},
   "outputs": [
    {
     "data": {
      "text/plain": [
       "64.41845454838997"
      ]
     },
     "execution_count": 56,
     "metadata": {},
     "output_type": "execute_result"
    }
   ],
   "source": [
    "PRMD_10.mean()"
   ]
  },
  {
   "cell_type": "code",
   "execution_count": 57,
   "metadata": {},
   "outputs": [
    {
     "data": {
      "text/plain": [
       "56.22572296124927"
      ]
     },
     "execution_count": 57,
     "metadata": {},
     "output_type": "execute_result"
    }
   ],
   "source": [
    "PRNP_10.mean()"
   ]
  },
  {
   "cell_type": "code",
   "execution_count": 58,
   "metadata": {},
   "outputs": [
    {
     "name": "stdout",
     "output_type": "stream",
     "text": [
      "the absolute difference in the average performance rates between MD and nurse practitioners NP: 8.192731587140706\n"
     ]
    }
   ],
   "source": [
    "print('the absolute difference in the average performance rates between MD and nurse practitioners NP:',abs(PRNP_10.mean()-PRMD_10.mean()))"
   ]
  },
  {
   "cell_type": "code",
   "execution_count": 59,
   "metadata": {},
   "outputs": [],
   "source": [
    "result=stats.ttest_ind(PRMD_10.values,PRNP_10.values)"
   ]
  },
  {
   "cell_type": "code",
   "execution_count": 60,
   "metadata": {},
   "outputs": [
    {
     "name": "stdout",
     "output_type": "stream",
     "text": [
      "he p-value of the difference in MD and NP performance rates: 0.00242413930511\n"
     ]
    }
   ],
   "source": [
    "print('he p-value of the difference in MD and NP performance rates:', result[1])"
   ]
  },
  {
   "cell_type": "code",
   "execution_count": null,
   "metadata": {
    "collapsed": true
   },
   "outputs": [],
   "source": []
  },
  {
   "cell_type": "code",
   "execution_count": null,
   "metadata": {
    "collapsed": true
   },
   "outputs": [],
   "source": []
  }
 ],
 "metadata": {
  "kernelspec": {
   "display_name": "Python 3",
   "language": "python",
   "name": "python3"
  },
  "language_info": {
   "codemirror_mode": {
    "name": "ipython",
    "version": 3
   },
   "file_extension": ".py",
   "mimetype": "text/x-python",
   "name": "python",
   "nbconvert_exporter": "python",
   "pygments_lexer": "ipython3",
   "version": "3.6.3"
  }
 },
 "nbformat": 4,
 "nbformat_minor": 2
}
