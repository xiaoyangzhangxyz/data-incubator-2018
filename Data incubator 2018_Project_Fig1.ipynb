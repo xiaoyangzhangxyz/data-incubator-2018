{
 "cells": [
  {
   "cell_type": "code",
   "execution_count": 3,
   "metadata": {
    "collapsed": true
   },
   "outputs": [],
   "source": [
    "import pandas as pd"
   ]
  },
  {
   "cell_type": "code",
   "execution_count": 4,
   "metadata": {},
   "outputs": [],
   "source": [
    "dp_gb_state_cpb=pd.read_csv('project_pic1_data')"
   ]
  },
  {
   "cell_type": "code",
   "execution_count": 5,
   "metadata": {},
   "outputs": [
    {
     "data": {
      "text/html": [
       "<script>requirejs.config({paths: { 'plotly': ['https://cdn.plot.ly/plotly-latest.min']},});if(!window.Plotly) {{require(['plotly'],function(plotly) {window.Plotly=plotly;});}}</script>"
      ],
      "text/vnd.plotly.v1+html": [
       "<script>requirejs.config({paths: { 'plotly': ['https://cdn.plot.ly/plotly-latest.min']},});if(!window.Plotly) {{require(['plotly'],function(plotly) {window.Plotly=plotly;});}}</script>"
      ]
     },
     "metadata": {},
     "output_type": "display_data"
    }
   ],
   "source": [
    "import plotly.plotly as py\n",
    "import plotly.graph_objs as go \n",
    "from plotly.offline import download_plotlyjs, init_notebook_mode, plot, iplot\n",
    "init_notebook_mode(connected=True) "
   ]
  },
  {
   "cell_type": "code",
   "execution_count": 6,
   "metadata": {
    "collapsed": true
   },
   "outputs": [],
   "source": [
    "data = dict(type='choropleth',\n",
    "            colorscale = 'Viridis',\n",
    "            reversescale = True,\n",
    "            locations = dp_gb_state_cpb['State'],\n",
    "            z = dp_gb_state_cpb['amoxicillin_claim_per_bene'],\n",
    "            locationmode = 'USA-states',\n",
    "            text =dp_gb_state_cpb['State'],\n",
    "            marker = dict(line = dict(color = 'rgb(255,255,255)',width = 1)),\n",
    "            colorbar = {'title':\"The number of amoxicillin claims per beneficiary\"}\n",
    "            ) "
   ]
  },
  {
   "cell_type": "code",
   "execution_count": 7,
   "metadata": {
    "collapsed": true
   },
   "outputs": [],
   "source": [
    "layout = dict(title = 'Map of US states by amoxicillin claims per beneficiary(2015)',\n",
    "              geo = dict(scope='usa'))"
   ]
  },
  {
   "cell_type": "code",
   "execution_count": 9,
   "metadata": {},
   "outputs": [
    {
     "data": {
      "application/vnd.plotly.v1+json": {
       "data": [
        {
         "colorbar": {
          "title": "The number of amoxicillin claims per beneficiary"
         },
         "colorscale": "Viridis",
         "locationmode": "USA-states",
         "locations": [
          "AK",
          "AL",
          "AR",
          "AZ",
          "CA",
          "CO",
          "CT",
          "DE",
          "FL",
          "GA",
          "HI",
          "IA",
          "ID",
          "IL",
          "IN",
          "KS",
          "KY",
          "LA",
          "MA",
          "MD",
          "ME",
          "MI",
          "MN",
          "MO",
          "MS",
          "MT",
          "NC",
          "ND",
          "NE",
          "NH",
          "NJ",
          "NM",
          "NV",
          "NY",
          "OH",
          "OK",
          "OR",
          "PA",
          "RI",
          "SC",
          "SD",
          "TN",
          "TX",
          "UT",
          "VA",
          "VT",
          "WA",
          "WI",
          "WV",
          "WY"
         ],
         "marker": {
          "line": {
           "color": "rgb(255,255,255)",
           "width": 1
          }
         },
         "reversescale": true,
         "text": [
          "AK",
          "AL",
          "AR",
          "AZ",
          "CA",
          "CO",
          "CT",
          "DE",
          "FL",
          "GA",
          "HI",
          "IA",
          "ID",
          "IL",
          "IN",
          "KS",
          "KY",
          "LA",
          "MA",
          "MD",
          "ME",
          "MI",
          "MN",
          "MO",
          "MS",
          "MT",
          "NC",
          "ND",
          "NE",
          "NH",
          "NJ",
          "NM",
          "NV",
          "NY",
          "OH",
          "OK",
          "OR",
          "PA",
          "RI",
          "SC",
          "SD",
          "TN",
          "TX",
          "UT",
          "VA",
          "VT",
          "WA",
          "WI",
          "WV",
          "WY"
         ],
         "type": "choropleth",
         "z": [
          1.1627604166666667,
          1.269767518359224,
          1.3042541214314436,
          1.2038322297462063,
          1.266693295503913,
          1.2591951095262353,
          1.2802563089450447,
          1.288097649379031,
          1.2330997664330998,
          1.2751754241194648,
          1.2889235008686275,
          1.4103149175588028,
          1.252128203935433,
          1.3105742982230235,
          1.3212151681735391,
          1.3214996951839058,
          1.2823849502487563,
          1.2727822093304326,
          1.2982081249179271,
          1.291875626880642,
          1.336060713862208,
          1.2856758772174566,
          1.3315953585850842,
          1.300999097804658,
          1.2923292298796354,
          1.32773176170755,
          1.2755558875526007,
          1.392173036385299,
          1.3637061369846193,
          1.328507002136245,
          1.2703121665892632,
          1.229961379497256,
          1.224073166748326,
          1.2712921493874227,
          1.3354071982832478,
          1.270766785856178,
          1.3133111289766854,
          1.3242023054712695,
          1.2789426723176445,
          1.2623104671965275,
          1.4433587543692403,
          1.2727151213488723,
          1.2657337207619428,
          1.2533900650339007,
          1.2950470732705692,
          1.4954233409610984,
          1.2590433986802176,
          1.3503599666845414,
          1.3094792056950169,
          1.337971439033321
         ]
        }
       ],
       "layout": {
        "geo": {
         "scope": "usa"
        },
        "title": "Map of US states by amoxicillin claims per beneficiary(2015)"
       }
      },
      "text/html": [
       "<div id=\"ebb8c943-0834-4e27-bb8b-c3fc2cc9ae4c\" style=\"height: 525px; width: 100%;\" class=\"plotly-graph-div\"></div><script type=\"text/javascript\">require([\"plotly\"], function(Plotly) { window.PLOTLYENV=window.PLOTLYENV || {};window.PLOTLYENV.BASE_URL=\"https://plot.ly\";Plotly.newPlot(\"ebb8c943-0834-4e27-bb8b-c3fc2cc9ae4c\", [{\"type\": \"choropleth\", \"colorscale\": \"Viridis\", \"reversescale\": true, \"locations\": [\"AK\", \"AL\", \"AR\", \"AZ\", \"CA\", \"CO\", \"CT\", \"DE\", \"FL\", \"GA\", \"HI\", \"IA\", \"ID\", \"IL\", \"IN\", \"KS\", \"KY\", \"LA\", \"MA\", \"MD\", \"ME\", \"MI\", \"MN\", \"MO\", \"MS\", \"MT\", \"NC\", \"ND\", \"NE\", \"NH\", \"NJ\", \"NM\", \"NV\", \"NY\", \"OH\", \"OK\", \"OR\", \"PA\", \"RI\", \"SC\", \"SD\", \"TN\", \"TX\", \"UT\", \"VA\", \"VT\", \"WA\", \"WI\", \"WV\", \"WY\"], \"z\": [1.1627604166666667, 1.269767518359224, 1.3042541214314436, 1.2038322297462063, 1.266693295503913, 1.2591951095262353, 1.2802563089450447, 1.288097649379031, 1.2330997664330998, 1.2751754241194648, 1.2889235008686275, 1.4103149175588028, 1.252128203935433, 1.3105742982230235, 1.3212151681735391, 1.3214996951839058, 1.2823849502487563, 1.2727822093304326, 1.2982081249179271, 1.291875626880642, 1.336060713862208, 1.2856758772174566, 1.3315953585850842, 1.300999097804658, 1.2923292298796354, 1.32773176170755, 1.2755558875526007, 1.392173036385299, 1.3637061369846193, 1.328507002136245, 1.2703121665892632, 1.229961379497256, 1.224073166748326, 1.2712921493874227, 1.3354071982832478, 1.270766785856178, 1.3133111289766854, 1.3242023054712695, 1.2789426723176445, 1.2623104671965275, 1.4433587543692403, 1.2727151213488723, 1.2657337207619428, 1.2533900650339007, 1.2950470732705692, 1.4954233409610984, 1.2590433986802176, 1.3503599666845414, 1.3094792056950169, 1.337971439033321], \"locationmode\": \"USA-states\", \"text\": [\"AK\", \"AL\", \"AR\", \"AZ\", \"CA\", \"CO\", \"CT\", \"DE\", \"FL\", \"GA\", \"HI\", \"IA\", \"ID\", \"IL\", \"IN\", \"KS\", \"KY\", \"LA\", \"MA\", \"MD\", \"ME\", \"MI\", \"MN\", \"MO\", \"MS\", \"MT\", \"NC\", \"ND\", \"NE\", \"NH\", \"NJ\", \"NM\", \"NV\", \"NY\", \"OH\", \"OK\", \"OR\", \"PA\", \"RI\", \"SC\", \"SD\", \"TN\", \"TX\", \"UT\", \"VA\", \"VT\", \"WA\", \"WI\", \"WV\", \"WY\"], \"marker\": {\"line\": {\"color\": \"rgb(255,255,255)\", \"width\": 1}}, \"colorbar\": {\"title\": \"The number of amoxicillin claims per beneficiary\"}}], {\"title\": \"Map of US states by amoxicillin claims per beneficiary(2015)\", \"geo\": {\"scope\": \"usa\"}}, {\"showLink\": true, \"linkText\": \"Export to plot.ly\"})});</script>"
      ],
      "text/vnd.plotly.v1+html": [
       "<div id=\"ebb8c943-0834-4e27-bb8b-c3fc2cc9ae4c\" style=\"height: 525px; width: 100%;\" class=\"plotly-graph-div\"></div><script type=\"text/javascript\">require([\"plotly\"], function(Plotly) { window.PLOTLYENV=window.PLOTLYENV || {};window.PLOTLYENV.BASE_URL=\"https://plot.ly\";Plotly.newPlot(\"ebb8c943-0834-4e27-bb8b-c3fc2cc9ae4c\", [{\"type\": \"choropleth\", \"colorscale\": \"Viridis\", \"reversescale\": true, \"locations\": [\"AK\", \"AL\", \"AR\", \"AZ\", \"CA\", \"CO\", \"CT\", \"DE\", \"FL\", \"GA\", \"HI\", \"IA\", \"ID\", \"IL\", \"IN\", \"KS\", \"KY\", \"LA\", \"MA\", \"MD\", \"ME\", \"MI\", \"MN\", \"MO\", \"MS\", \"MT\", \"NC\", \"ND\", \"NE\", \"NH\", \"NJ\", \"NM\", \"NV\", \"NY\", \"OH\", \"OK\", \"OR\", \"PA\", \"RI\", \"SC\", \"SD\", \"TN\", \"TX\", \"UT\", \"VA\", \"VT\", \"WA\", \"WI\", \"WV\", \"WY\"], \"z\": [1.1627604166666667, 1.269767518359224, 1.3042541214314436, 1.2038322297462063, 1.266693295503913, 1.2591951095262353, 1.2802563089450447, 1.288097649379031, 1.2330997664330998, 1.2751754241194648, 1.2889235008686275, 1.4103149175588028, 1.252128203935433, 1.3105742982230235, 1.3212151681735391, 1.3214996951839058, 1.2823849502487563, 1.2727822093304326, 1.2982081249179271, 1.291875626880642, 1.336060713862208, 1.2856758772174566, 1.3315953585850842, 1.300999097804658, 1.2923292298796354, 1.32773176170755, 1.2755558875526007, 1.392173036385299, 1.3637061369846193, 1.328507002136245, 1.2703121665892632, 1.229961379497256, 1.224073166748326, 1.2712921493874227, 1.3354071982832478, 1.270766785856178, 1.3133111289766854, 1.3242023054712695, 1.2789426723176445, 1.2623104671965275, 1.4433587543692403, 1.2727151213488723, 1.2657337207619428, 1.2533900650339007, 1.2950470732705692, 1.4954233409610984, 1.2590433986802176, 1.3503599666845414, 1.3094792056950169, 1.337971439033321], \"locationmode\": \"USA-states\", \"text\": [\"AK\", \"AL\", \"AR\", \"AZ\", \"CA\", \"CO\", \"CT\", \"DE\", \"FL\", \"GA\", \"HI\", \"IA\", \"ID\", \"IL\", \"IN\", \"KS\", \"KY\", \"LA\", \"MA\", \"MD\", \"ME\", \"MI\", \"MN\", \"MO\", \"MS\", \"MT\", \"NC\", \"ND\", \"NE\", \"NH\", \"NJ\", \"NM\", \"NV\", \"NY\", \"OH\", \"OK\", \"OR\", \"PA\", \"RI\", \"SC\", \"SD\", \"TN\", \"TX\", \"UT\", \"VA\", \"VT\", \"WA\", \"WI\", \"WV\", \"WY\"], \"marker\": {\"line\": {\"color\": \"rgb(255,255,255)\", \"width\": 1}}, \"colorbar\": {\"title\": \"The number of amoxicillin claims per beneficiary\"}}], {\"title\": \"Map of US states by amoxicillin claims per beneficiary(2015)\", \"geo\": {\"scope\": \"usa\"}}, {\"showLink\": true, \"linkText\": \"Export to plot.ly\"})});</script>"
      ]
     },
     "metadata": {},
     "output_type": "display_data"
    }
   ],
   "source": [
    "choromap = go.Figure(data = [data],layout = layout)\n",
    "iplot(choromap)"
   ]
  },
  {
   "cell_type": "code",
   "execution_count": 10,
   "metadata": {
    "collapsed": true
   },
   "outputs": [],
   "source": [
    "avg_life_exp=pd.read_csv('project_pic1_data_2')"
   ]
  },
  {
   "cell_type": "code",
   "execution_count": 14,
   "metadata": {
    "collapsed": true
   },
   "outputs": [],
   "source": [
    "data = dict(type='choropleth',\n",
    "            colorscale = 'magma',\n",
    "            reversescale = True,\n",
    "            locations = avg_life_exp['State'],\n",
    "            z = avg_life_exp['Life_Expectation'],\n",
    "            locationmode = 'USA-states',\n",
    "            text =avg_life_exp['State'],\n",
    "            marker = dict(line = dict(color = 'rgb(255,255,255)',width = 1)),\n",
    "            colorbar = {'title':\"life expectancy\"}\n",
    "            ) "
   ]
  },
  {
   "cell_type": "code",
   "execution_count": 15,
   "metadata": {
    "collapsed": true
   },
   "outputs": [],
   "source": [
    "layout = dict(title = 'Map of US states by life expectancy at birth (years)',\n",
    "              geo = dict(scope='usa'))"
   ]
  },
  {
   "cell_type": "code",
   "execution_count": 16,
   "metadata": {},
   "outputs": [
    {
     "data": {
      "application/vnd.plotly.v1+json": {
       "data": [
        {
         "colorbar": {
          "title": "life expectancy"
         },
         "colorscale": "magma",
         "locationmode": "USA-states",
         "locations": [
          "AL",
          "AK",
          "AZ",
          "AR",
          "CA",
          "CO",
          "CT",
          "DE",
          "FL",
          "GA",
          "HI",
          "ID",
          "IL",
          "IN",
          "IA",
          "KS",
          "KY",
          "LA",
          "ME",
          "MD",
          "MA",
          "MI",
          "MN",
          "MS",
          "MO",
          "MT",
          "NE",
          "NV",
          "NH",
          "NJ",
          "NM",
          "NY",
          "NC",
          "ND",
          "OH",
          "OK",
          "OR",
          "PA",
          "RI",
          "SC",
          "SD",
          "TN",
          "TX",
          "UT",
          "VT",
          "VA",
          "WA",
          "WV",
          "WI",
          "WY"
         ],
         "marker": {
          "line": {
           "color": "rgb(255,255,255)",
           "width": 1
          }
         },
         "reversescale": true,
         "text": [
          "AL",
          "AK",
          "AZ",
          "AR",
          "CA",
          "CO",
          "CT",
          "DE",
          "FL",
          "GA",
          "HI",
          "ID",
          "IL",
          "IN",
          "IA",
          "KS",
          "KY",
          "LA",
          "ME",
          "MD",
          "MA",
          "MI",
          "MN",
          "MS",
          "MO",
          "MT",
          "NE",
          "NV",
          "NH",
          "NJ",
          "NM",
          "NY",
          "NC",
          "ND",
          "OH",
          "OK",
          "OR",
          "PA",
          "RI",
          "SC",
          "SD",
          "TN",
          "TX",
          "UT",
          "VT",
          "VA",
          "WA",
          "WV",
          "WI",
          "WY"
         ],
         "type": "choropleth",
         "z": [
          74.42941176470589,
          77.94999999999995,
          77.890625,
          75.1171052631579,
          79.21440677966103,
          79.07923076923076,
          80.17222222222222,
          77.7625,
          77.29852941176472,
          75.43031250000007,
          80.29166666666667,
          78.49555555555554,
          77.73398058252425,
          77.0741935483871,
          78.99600000000001,
          77.94386792452829,
          74.95371900826446,
          74.74538461538461,
          78.44411764705885,
          78.17399999999999,
          79.99000000000002,
          78.03988095238091,
          79.92670454545451,
          73.8379518072289,
          76.6831896551724,
          78.0359649122807,
          78.98936170212768,
          76.8972222222222,
          79.51363636363638,
          79.35227272727272,
          77.41764705882352,
          79.0420634920635,
          76.49356435643566,
          79.19444444444444,
          77.2022471910112,
          75.22500000000002,
          78.39864864864866,
          78.11470588235295,
          79.4833333333333,
          75.28936170212766,
          78.39104477611944,
          75.30989583333333,
          76.91078431372547,
          78.94833333333334,
          79.20666666666669,
          77.12259259259258,
          78.97125,
          75.50357142857143,
          79.30890410958904,
          78.36875
         ]
        }
       ],
       "layout": {
        "geo": {
         "scope": "usa"
        },
        "title": "Map of US states by life expectancy at birth (years)"
       }
      },
      "text/html": [
       "<div id=\"db25eae5-3775-41dc-8190-6600578c5820\" style=\"height: 525px; width: 100%;\" class=\"plotly-graph-div\"></div><script type=\"text/javascript\">require([\"plotly\"], function(Plotly) { window.PLOTLYENV=window.PLOTLYENV || {};window.PLOTLYENV.BASE_URL=\"https://plot.ly\";Plotly.newPlot(\"db25eae5-3775-41dc-8190-6600578c5820\", [{\"type\": \"choropleth\", \"colorscale\": \"magma\", \"reversescale\": true, \"locations\": [\"AL\", \"AK\", \"AZ\", \"AR\", \"CA\", \"CO\", \"CT\", \"DE\", \"FL\", \"GA\", \"HI\", \"ID\", \"IL\", \"IN\", \"IA\", \"KS\", \"KY\", \"LA\", \"ME\", \"MD\", \"MA\", \"MI\", \"MN\", \"MS\", \"MO\", \"MT\", \"NE\", \"NV\", \"NH\", \"NJ\", \"NM\", \"NY\", \"NC\", \"ND\", \"OH\", \"OK\", \"OR\", \"PA\", \"RI\", \"SC\", \"SD\", \"TN\", \"TX\", \"UT\", \"VT\", \"VA\", \"WA\", \"WV\", \"WI\", \"WY\"], \"z\": [74.42941176470589, 77.94999999999995, 77.890625, 75.1171052631579, 79.21440677966103, 79.07923076923076, 80.17222222222222, 77.7625, 77.29852941176472, 75.43031250000007, 80.29166666666667, 78.49555555555554, 77.73398058252425, 77.0741935483871, 78.99600000000001, 77.94386792452829, 74.95371900826446, 74.74538461538461, 78.44411764705885, 78.17399999999999, 79.99000000000002, 78.03988095238091, 79.92670454545451, 73.8379518072289, 76.6831896551724, 78.0359649122807, 78.98936170212768, 76.8972222222222, 79.51363636363638, 79.35227272727272, 77.41764705882352, 79.0420634920635, 76.49356435643566, 79.19444444444444, 77.2022471910112, 75.22500000000002, 78.39864864864866, 78.11470588235295, 79.4833333333333, 75.28936170212766, 78.39104477611944, 75.30989583333333, 76.91078431372547, 78.94833333333334, 79.20666666666669, 77.12259259259258, 78.97125, 75.50357142857143, 79.30890410958904, 78.36875], \"locationmode\": \"USA-states\", \"text\": [\"AL\", \"AK\", \"AZ\", \"AR\", \"CA\", \"CO\", \"CT\", \"DE\", \"FL\", \"GA\", \"HI\", \"ID\", \"IL\", \"IN\", \"IA\", \"KS\", \"KY\", \"LA\", \"ME\", \"MD\", \"MA\", \"MI\", \"MN\", \"MS\", \"MO\", \"MT\", \"NE\", \"NV\", \"NH\", \"NJ\", \"NM\", \"NY\", \"NC\", \"ND\", \"OH\", \"OK\", \"OR\", \"PA\", \"RI\", \"SC\", \"SD\", \"TN\", \"TX\", \"UT\", \"VT\", \"VA\", \"WA\", \"WV\", \"WI\", \"WY\"], \"marker\": {\"line\": {\"color\": \"rgb(255,255,255)\", \"width\": 1}}, \"colorbar\": {\"title\": \"life expectancy\"}}], {\"title\": \"Map of US states by life expectancy at birth (years)\", \"geo\": {\"scope\": \"usa\"}}, {\"showLink\": true, \"linkText\": \"Export to plot.ly\"})});</script>"
      ],
      "text/vnd.plotly.v1+html": [
       "<div id=\"db25eae5-3775-41dc-8190-6600578c5820\" style=\"height: 525px; width: 100%;\" class=\"plotly-graph-div\"></div><script type=\"text/javascript\">require([\"plotly\"], function(Plotly) { window.PLOTLYENV=window.PLOTLYENV || {};window.PLOTLYENV.BASE_URL=\"https://plot.ly\";Plotly.newPlot(\"db25eae5-3775-41dc-8190-6600578c5820\", [{\"type\": \"choropleth\", \"colorscale\": \"magma\", \"reversescale\": true, \"locations\": [\"AL\", \"AK\", \"AZ\", \"AR\", \"CA\", \"CO\", \"CT\", \"DE\", \"FL\", \"GA\", \"HI\", \"ID\", \"IL\", \"IN\", \"IA\", \"KS\", \"KY\", \"LA\", \"ME\", \"MD\", \"MA\", \"MI\", \"MN\", \"MS\", \"MO\", \"MT\", \"NE\", \"NV\", \"NH\", \"NJ\", \"NM\", \"NY\", \"NC\", \"ND\", \"OH\", \"OK\", \"OR\", \"PA\", \"RI\", \"SC\", \"SD\", \"TN\", \"TX\", \"UT\", \"VT\", \"VA\", \"WA\", \"WV\", \"WI\", \"WY\"], \"z\": [74.42941176470589, 77.94999999999995, 77.890625, 75.1171052631579, 79.21440677966103, 79.07923076923076, 80.17222222222222, 77.7625, 77.29852941176472, 75.43031250000007, 80.29166666666667, 78.49555555555554, 77.73398058252425, 77.0741935483871, 78.99600000000001, 77.94386792452829, 74.95371900826446, 74.74538461538461, 78.44411764705885, 78.17399999999999, 79.99000000000002, 78.03988095238091, 79.92670454545451, 73.8379518072289, 76.6831896551724, 78.0359649122807, 78.98936170212768, 76.8972222222222, 79.51363636363638, 79.35227272727272, 77.41764705882352, 79.0420634920635, 76.49356435643566, 79.19444444444444, 77.2022471910112, 75.22500000000002, 78.39864864864866, 78.11470588235295, 79.4833333333333, 75.28936170212766, 78.39104477611944, 75.30989583333333, 76.91078431372547, 78.94833333333334, 79.20666666666669, 77.12259259259258, 78.97125, 75.50357142857143, 79.30890410958904, 78.36875], \"locationmode\": \"USA-states\", \"text\": [\"AL\", \"AK\", \"AZ\", \"AR\", \"CA\", \"CO\", \"CT\", \"DE\", \"FL\", \"GA\", \"HI\", \"ID\", \"IL\", \"IN\", \"IA\", \"KS\", \"KY\", \"LA\", \"ME\", \"MD\", \"MA\", \"MI\", \"MN\", \"MS\", \"MO\", \"MT\", \"NE\", \"NV\", \"NH\", \"NJ\", \"NM\", \"NY\", \"NC\", \"ND\", \"OH\", \"OK\", \"OR\", \"PA\", \"RI\", \"SC\", \"SD\", \"TN\", \"TX\", \"UT\", \"VT\", \"VA\", \"WA\", \"WV\", \"WI\", \"WY\"], \"marker\": {\"line\": {\"color\": \"rgb(255,255,255)\", \"width\": 1}}, \"colorbar\": {\"title\": \"life expectancy\"}}], {\"title\": \"Map of US states by life expectancy at birth (years)\", \"geo\": {\"scope\": \"usa\"}}, {\"showLink\": true, \"linkText\": \"Export to plot.ly\"})});</script>"
      ]
     },
     "metadata": {},
     "output_type": "display_data"
    }
   ],
   "source": [
    "choromap1 = go.Figure(data = [data],layout = layout)\n",
    "iplot(choromap1)"
   ]
  },
  {
   "cell_type": "code",
   "execution_count": null,
   "metadata": {
    "collapsed": true
   },
   "outputs": [],
   "source": []
  }
 ],
 "metadata": {
  "kernelspec": {
   "display_name": "Python 3",
   "language": "python",
   "name": "python3"
  },
  "language_info": {
   "codemirror_mode": {
    "name": "ipython",
    "version": 3
   },
   "file_extension": ".py",
   "mimetype": "text/x-python",
   "name": "python",
   "nbconvert_exporter": "python",
   "pygments_lexer": "ipython3",
   "version": "3.6.3"
  }
 },
 "nbformat": 4,
 "nbformat_minor": 2
}
